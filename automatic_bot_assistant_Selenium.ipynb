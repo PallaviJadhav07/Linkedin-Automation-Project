{
 "cells": [
  {
   "cell_type": "code",
   "execution_count": 71,
   "id": "0d94ecdb",
   "metadata": {},
   "outputs": [],
   "source": [
    "# import libraries\n",
    "import openai\n",
    "from selenium import webdriver\n",
    "from selenium.webdriver.common.keys import Keys\n",
    "from selenium.webdriver.common.by import By  \n",
    "import time\n",
    "from selenium.webdriver.support.ui import WebDriverWait\n",
    "from selenium.webdriver.support import expected_conditions as EC\n"
   ]
  },
  {
   "cell_type": "code",
   "execution_count": 72,
   "id": "4804ac54",
   "metadata": {},
   "outputs": [],
   "source": [
    "# Set your OpenAI API key\n",
    "openai.api_key = \"***************************************\""
   ]
  },
  {
   "cell_type": "code",
   "execution_count": 73,
   "id": "175771ad",
   "metadata": {},
   "outputs": [],
   "source": [
    "# Initialize ChromeOptions\n",
    "chrome_options = webdriver.ChromeOptions()\n",
    "# Initialize ChromeDriver with options\n",
    "driver = webdriver.Chrome(options=chrome_options)"
   ]
  },
  {
   "cell_type": "code",
   "execution_count": 74,
   "id": "76299800",
   "metadata": {},
   "outputs": [],
   "source": [
    "# Navigate to LinkedIn\n",
    "driver.get('https://www.linkedin.com/')\n",
    "# Wait for the page to load\n",
    "time.sleep(3)"
   ]
  },
  {
   "cell_type": "code",
   "execution_count": 75,
   "id": "3da79e50",
   "metadata": {},
   "outputs": [],
   "source": [
    "# Log in to LinkedIn\n",
    "driver.find_element(By.ID, 'session_key').send_keys('Email Id')  # Using By.ID\n",
    "driver.find_element(By.ID, 'session_password').send_keys('Password')  # Using By.ID\n",
    "# Log in to LinkedIn using text label\n",
    "driver.find_element(By.XPATH, \"//button[contains(text(),'Sign in')]\").click()\n",
    "# Wait for the login to complete\n",
    "time.sleep(3)"
   ]
  },
  {
   "cell_type": "code",
   "execution_count": 76,
   "id": "4708f802",
   "metadata": {},
   "outputs": [],
   "source": [
    "# Define search keywords obtained from OpenAI API\n",
    "search_keywords = \"pallavi jadhav\"\n",
    "# Locate the search bar\n",
    "search_bar = driver.find_element(By.XPATH, '//input[@placeholder=\"Search\"]')\n",
    "search_bar.send_keys(search_keywords)\n",
    "search_bar.send_keys(Keys.RETURN)\n",
    "# Wait for search results to load\n",
    "time.sleep(3)"
   ]
  },
  {
   "cell_type": "code",
   "execution_count": 77,
   "id": "79d56075",
   "metadata": {},
   "outputs": [],
   "source": [
    "# Click on the profile of Pallavi Jadhav using a different selector\n",
    "driver.find_element(By.PARTIAL_LINK_TEXT, 'Pallavi Jadhav').click()\n",
    "# Wait for the profile to load\n",
    "time.sleep(3)"
   ]
  },
  {
   "cell_type": "code",
   "execution_count": 78,
   "id": "f2fae175",
   "metadata": {},
   "outputs": [],
   "source": [
    "# Click on the Message Button\n",
    "all_buttons = driver.find_elements(By.TAG_NAME, \"button\")\n",
    "message_buttons = [btn for btn in all_buttons if btn.text == \"Message\"]\n",
    "\n",
    "if message_buttons:\n",
    "    message_buttons[0].click()"
   ]
  },
  {
   "cell_type": "code",
   "execution_count": null,
   "id": "330ee9d5",
   "metadata": {},
   "outputs": [],
   "source": [
    "# Locate the message input field\n",
    "message_input = driver.find_element(By.XPATH, \"//div[@role='textbox']\")\n",
    "# Send your message (e.g., \"Hi\")\n",
    "message_input.send_keys(\"Hello, I apologize for disturbing you with this message. This is just a trial of my project. Please ignore it.\")\n",
    "time.sleep(2)\n",
    "# Send the message by pressing Enter\n",
    "message_input.send_keys(Keys.RETURN)\n",
    "\n",
    "\n",
    "# Locate and click the \"Send\" button using the class name\n",
    "send_button = driver.find_element(By.CLASS_NAME, \"msg-form__send-button\")\n",
    "send_button.click()\n",
    "# Locate and click the \"Send\" button using the CSS selector\n",
    "#send_button = driver.find_element(By.CSS_SELECTOR, \"#msg-form-ember461 > footer > div.msg-form__right-actions.display-flex.align-items-center > div:nth-child(1) > button\")\n",
    "#send_button.click()\n",
    "time.sleep(2)\n",
    "\n",
    "# Close the browser window when done\n",
    "driver.quit()"
   ]
  }
 ],
 "metadata": {
  "kernelspec": {
   "display_name": "Python 3 (ipykernel)",
   "language": "python",
   "name": "python3"
  },
  "language_info": {
   "codemirror_mode": {
    "name": "ipython",
    "version": 3
   },
   "file_extension": ".py",
   "mimetype": "text/x-python",
   "name": "python",
   "nbconvert_exporter": "python",
   "pygments_lexer": "ipython3",
   "version": "3.7.5"
  }
 },
 "nbformat": 4,
 "nbformat_minor": 5
}
